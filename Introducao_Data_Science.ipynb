{
  "nbformat": 4,
  "nbformat_minor": 0,
  "metadata": {
    "colab": {
      "name": "teste 1 python no notebook colab",
      "provenance": [],
      "authorship_tag": "ABX9TyNGatzPEAmyFnUWAcWnwefS",
      "include_colab_link": true
    },
    "kernelspec": {
      "name": "python3",
      "display_name": "Python 3"
    },
    "language_info": {
      "name": "python"
    }
  },
  "cells": [
    {
      "cell_type": "markdown",
      "metadata": {
        "id": "view-in-github",
        "colab_type": "text"
      },
      "source": [
        "<a href=\"https://colab.research.google.com/github/RaphaelfsOliveira/colab_new_study/blob/main/teste_1_python_no_notebook_colab.ipynb\" target=\"_parent\"><img src=\"https://colab.research.google.com/assets/colab-badge.svg\" alt=\"Open In Colab\"/></a>"
      ]
    },
    {
      "cell_type": "code",
      "metadata": {
        "id": "O-ExCn-CAN9Y"
      },
      "source": [
        "filme1 = 'perfect sense'\n",
        "filme2 = 'orgulho e preconceito'\n",
        "filme3 = 'O ultimo tango em paris'"
      ],
      "execution_count": 11,
      "outputs": []
    },
    {
      "cell_type": "code",
      "metadata": {
        "id": "bCMOZ42uDD6k"
      },
      "source": [
        "list_film = [filme1, filme2, filme3]"
      ],
      "execution_count": 18,
      "outputs": []
    },
    {
      "cell_type": "code",
      "metadata": {
        "id": "qZuGkhSWDKOK"
      },
      "source": [
        "def list_films(films):\n",
        "  print('lista de filmes dispiníveis:')\n",
        "  for i, film in enumerate(films):\n",
        "    print('{} - {}'.format(i + 1, film))"
      ],
      "execution_count": 23,
      "outputs": []
    },
    {
      "cell_type": "code",
      "metadata": {
        "colab": {
          "base_uri": "https://localhost:8080/"
        },
        "id": "dSvr69_iDb5f",
        "outputId": "d5e14f7d-d418-42e0-be2a-60cf9ac78e3b"
      },
      "source": [
        "list_films(list_film)"
      ],
      "execution_count": 24,
      "outputs": [
        {
          "output_type": "stream",
          "text": [
            "lista de filmes dispiníveis:\n",
            "1 - perfect sense\n",
            "2 - orgulho e preconceito\n",
            "3 - O ultimo tango em paris\n"
          ],
          "name": "stdout"
        }
      ]
    },
    {
      "cell_type": "code",
      "metadata": {
        "id": "81tyalVLGC0R"
      },
      "source": [
        "dados = {\n",
        "    'name': 'John',\n",
        "    'age': 34,\n",
        "    'empresa': 'Yxz'\n",
        "}"
      ],
      "execution_count": 28,
      "outputs": []
    },
    {
      "cell_type": "code",
      "metadata": {
        "colab": {
          "base_uri": "https://localhost:8080/"
        },
        "id": "nOJUnDEAGIyx",
        "outputId": "53e1478a-fdce-4bc6-d4bf-75e8ac9b200b"
      },
      "source": [
        "dados['name'], dados['age'], dados['empresa']"
      ],
      "execution_count": 30,
      "outputs": [
        {
          "output_type": "execute_result",
          "data": {
            "text/plain": [
              "('Raphael', 34, 'SenseData')"
            ]
          },
          "metadata": {
            "tags": []
          },
          "execution_count": 30
        }
      ]
    },
    {
      "cell_type": "code",
      "metadata": {
        "id": "07COmPQFGK0d"
      },
      "source": [
        ""
      ],
      "execution_count": null,
      "outputs": []
    }
  ]
}
